{
 "cells": [
  {
   "cell_type": "markdown",
   "metadata": {},
   "source": [
    "\n",
    "# Ways to set a color's alpha value\n",
    "\n",
    "Compare setting alpha by the *alpha* keyword argument and by one of the Matplotlib color\n",
    "formats. Often, the *alpha* keyword is the only tool needed to add transparency to a\n",
    "color. In some cases, the *(matplotlib_color, alpha)* color format provides an easy way\n",
    "to fine-tune the appearance of a Figure.\n"
   ]
  },
  {
   "cell_type": "code",
   "execution_count": 8,
   "metadata": {
    "ExecuteTime": {
     "end_time": "2024-03-25T10:11:55.832001Z",
     "start_time": "2024-03-25T10:11:55.297101Z"
    }
   },
   "outputs": [
    {
     "data": {
      "image/png": "[encoded data removed]",
      "text/plain": [
       "<Figure size 1008x432 with 2 Axes>"
      ]
     },
     "metadata": {
      "needs_background": "light"
     },
     "output_type": "display_data"
    }
   ],
   "source": [
    "import matplotlib.pyplot as plt\n",
    "import numpy as np\n",
    "import matplotlib.colors as mcolors\n",
    "\n",
    "\n",
    "plt.rcParams['font.family'] = 'NanumGothic'\n",
    "plt.rcParams['axes.unicode_minus'] = False\n",
    "# Fixing random state for reproducibility.\n",
    "np.random.seed(19680801)\n",
    "\n",
    "# 두 개의 subplot을 생성합니다. (2열, figsize는 가로 8, 세로 4)\n",
    "fig, (ax1, ax2) = plt.subplots(ncols=2, figsize=(14, 6))\n",
    "\n",
    "# 20개의 x값을 생성합니다.\n",
    "x_values = [n for n in range(20)]\n",
    "# 20개의 랜덤한 y값을 생성합니다.\n",
    "y_values = np.random.randn(20)\n",
    "\n",
    "# y값이 양수인 경우 'green', 음수인 경우 'red'로 설정합니다.\n",
    "facecolors = ['green' if y > 0 else 'red' for y in y_values]\n",
    "# edgecolor도 facecolor와 동일하게 설정합니다.\n",
    "edgecolors = facecolors\n",
    "\n",
    "# 첫 번째 subplot(ax1)에 바 차트를 그립니다.\n",
    "ax1.bar(x_values, y_values, color=facecolors, edgecolor=edgecolors, alpha=0.5)\n",
    "# 첫 번째 subplot(ax1)의 제목을 설정합니다.\n",
    "ax1.set_title(\"모든 막대와 테두리에서 공유되는 명시적 'alpha' 키워드 값\")\n",
    "\n",
    "\n",
    "# y값을 정규화하여 각 막대마다 다른 face alpha 값을 얻습니다.\n",
    "abs_y = [abs(y) for y in y_values]\n",
    "face_alphas = [n / max(abs_y) for n in abs_y]\n",
    "# 각 막대의 edge alpha를 face alpha와 반대로 설정합니다.\n",
    "edge_alphas = [1 - alpha for alpha in face_alphas]\n",
    "\n",
    "# facecolors와 face_alphas를 묶어 RGBA 리스트로 만듭니다.\n",
    "colors_with_alphas = [mcolors.to_rgba(color, alpha) for color, alpha in zip(facecolors, face_alphas)]\n",
    "# colors_with_alphas = list(zip(facecolors, face_alphas))\n",
    "# edgecolors와 edge_alphas를 묶어 RGBA 리스트로 만듭니다.\n",
    "edgecolors_with_alphas = [mcolors.to_rgba(color, alpha) for color, alpha in zip(edgecolors, edge_alphas)]\n",
    "# edgecolors_with_alphas = list(zip(edgecolors, edge_alphas))\n",
    "\n",
    "# 두 번째 subplot(ax2)에 바 차트를 그립니다. \n",
    "ax2.bar(x_values, y_values, color=colors_with_alphas,\n",
    "        edgecolor=edgecolors_with_alphas)\n",
    "# 두 번째 subplot(ax2)의 제목을 설정합니다.\n",
    "ax2.set_title(\"각 막대와 각 테두리에 대한 정규화된 알파값\")\n",
    "\n",
    "# 그래프를 출력합니다.\n",
    "plt.show()\n"
   ]
  },
  {
   "cell_type": "markdown",
   "metadata": {},
   "source": [
    ".. admonition:: References\n",
    "\n",
    "   The use of the following functions, methods, classes and modules is shown\n",
    "   in this example:\n",
    "\n",
    "   - `matplotlib.axes.Axes.bar`\n",
    "   - `matplotlib.pyplot.subplots`\n",
    "\n"
   ]
  }
 ],
 "metadata": {
  "kernelspec": {
   "display_name": "Python 3",
   "language": "python",
   "name": "python3"
  },
  "language_info": {
   "codemirror_mode": {
    "name": "ipython",
    "version": 3
   },
   "file_extension": ".py",
   "mimetype": "text/x-python",
   "name": "python",
   "nbconvert_exporter": "python",
   "pygments_lexer": "ipython3",
   "version": "3.8.5"
  }
 },
 "nbformat": 4,
 "nbformat_minor": 1
}
