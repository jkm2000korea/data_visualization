{
 "cells": [
  {
   "cell_type": "markdown",
   "metadata": {},
   "source": [
    "# Box_plot_with_dots"
   ]
  },
  {
   "cell_type": "code",
   "execution_count": 1,
   "metadata": {
    "ExecuteTime": {
     "end_time": "2024-04-20T10:16:30.407689Z",
     "start_time": "2024-04-20T10:16:29.403699Z"
    }
   },
   "outputs": [
    {
     "data": {
      "text/html": [
       "<div>\n",
       "<style scoped>\n",
       "    .dataframe tbody tr th:only-of-type {\n",
       "        vertical-align: middle;\n",
       "    }\n",
       "\n",
       "    .dataframe tbody tr th {\n",
       "        vertical-align: top;\n",
       "    }\n",
       "\n",
       "    .dataframe thead th {\n",
       "        text-align: right;\n",
       "    }\n",
       "</style>\n",
       "<table border=\"1\" class=\"dataframe\">\n",
       "  <thead>\n",
       "    <tr style=\"text-align: right;\">\n",
       "      <th></th>\n",
       "      <th>data1</th>\n",
       "      <th>data2</th>\n",
       "      <th>data3</th>\n",
       "      <th>data4</th>\n",
       "    </tr>\n",
       "  </thead>\n",
       "  <tbody>\n",
       "    <tr>\n",
       "      <th>0</th>\n",
       "      <td>75.843435</td>\n",
       "      <td>89.003941</td>\n",
       "      <td>82.397449</td>\n",
       "      <td>62.334397</td>\n",
       "    </tr>\n",
       "    <tr>\n",
       "      <th>1</th>\n",
       "      <td>93.640593</td>\n",
       "      <td>68.109963</td>\n",
       "      <td>68.213048</td>\n",
       "      <td>71.652693</td>\n",
       "    </tr>\n",
       "    <tr>\n",
       "      <th>2</th>\n",
       "      <td>93.470260</td>\n",
       "      <td>85.569765</td>\n",
       "      <td>65.586958</td>\n",
       "      <td>83.367364</td>\n",
       "    </tr>\n",
       "    <tr>\n",
       "      <th>3</th>\n",
       "      <td>86.027844</td>\n",
       "      <td>87.539994</td>\n",
       "      <td>80.180372</td>\n",
       "      <td>83.955855</td>\n",
       "    </tr>\n",
       "    <tr>\n",
       "      <th>4</th>\n",
       "      <td>94.056962</td>\n",
       "      <td>68.164754</td>\n",
       "      <td>92.909785</td>\n",
       "      <td>67.129542</td>\n",
       "    </tr>\n",
       "  </tbody>\n",
       "</table>\n",
       "</div>"
      ],
      "text/plain": [
       "       data1      data2      data3      data4\n",
       "0  75.843435  89.003941  82.397449  62.334397\n",
       "1  93.640593  68.109963  68.213048  71.652693\n",
       "2  93.470260  85.569765  65.586958  83.367364\n",
       "3  86.027844  87.539994  80.180372  83.955855\n",
       "4  94.056962  68.164754  92.909785  67.129542"
      ]
     },
     "execution_count": 1,
     "metadata": {},
     "output_type": "execute_result"
    }
   ],
   "source": [
    "import numpy as np\n",
    "import pandas as pd\n",
    "import matplotlib.pyplot as plt\n",
    "plt.rcParams['font.family'] = 'Malgun Gothic'\n",
    "\n",
    "import koreanize_matplotlib\n",
    "import seaborn as sns\n",
    "\n",
    "dataset = np.random.default_rng().uniform(60,95,(20,4))\n",
    "df = pd.DataFrame(dataset, columns=['data1','data2','data3','data4'])\n",
    "df.head()"
   ]
  },
  {
   "cell_type": "code",
   "execution_count": 2,
   "metadata": {
    "ExecuteTime": {
     "end_time": "2024-04-20T10:16:30.420361Z",
     "start_time": "2024-04-20T10:16:30.409249Z"
    }
   },
   "outputs": [],
   "source": [
    "# import matplotlib.pyplot as plt\n",
    "\n",
    "# # 가능한 font list 확인\n",
    "# import matplotlib.font_manager as fm\n",
    "# f = [f.name for f in fm.fontManager.ttflist]\n",
    "# print(f)\n",
    "\n",
    "# # 확인 이후\n",
    "# # plt.rc('font', family='NanumGothic')"
   ]
  },
  {
   "cell_type": "code",
   "execution_count": 3,
   "metadata": {
    "ExecuteTime": {
     "end_time": "2024-04-20T10:16:30.435728Z",
     "start_time": "2024-04-20T10:16:30.422047Z"
    }
   },
   "outputs": [],
   "source": [
    "vals, names, xs = [],[],[]\n",
    "for i, col in enumerate(df.columns):\n",
    "    vals.append(df[col].values)\n",
    "    names.append(col)\n",
    "    xs.append(np.random.normal(i + 1, 0.04, df[col].values.shape[0]))  # adds jitter to the data points - can be adjusted"
   ]
  },
  {
   "cell_type": "code",
   "execution_count": 4,
   "metadata": {
    "ExecuteTime": {
     "end_time": "2024-04-20T10:16:30.453412Z",
     "start_time": "2024-04-20T10:16:30.438224Z"
    }
   },
   "outputs": [
    {
     "data": {
      "text/plain": [
       "[array([1.02071146, 1.01693869, 1.02214169, 1.03223329, 1.03751917,\n",
       "        0.98892216, 1.04584771, 1.05794044, 0.91865103, 1.00325231,\n",
       "        0.93068582, 0.99001248, 0.9587553 , 0.8971304 , 0.93060148,\n",
       "        0.97398884, 0.98145623, 0.95545559, 1.06013478, 1.01084961]),\n",
       " array([2.00611567, 2.00381477, 2.03828546, 1.94443168, 2.02972929,\n",
       "        2.07621005, 1.9714928 , 2.02188896, 2.00532807, 2.04541626,\n",
       "        2.04544425, 1.98800319, 2.04730471, 2.06401795, 2.05795728,\n",
       "        2.01254191, 1.99442509, 1.99177377, 2.05117993, 1.95821713]),\n",
       " array([2.92561489, 3.01342467, 2.98495284, 3.02372115, 3.04742034,\n",
       "        3.00327452, 3.05362335, 2.9963392 , 2.96242756, 2.94563722,\n",
       "        3.02949627, 3.05806853, 3.00935215, 3.01721391, 2.98559661,\n",
       "        2.97441388, 3.007042  , 2.95294226, 3.03988149, 3.05161633]),\n",
       " array([3.98849036, 4.06848997, 3.9759155 , 3.9394883 , 4.04182949,\n",
       "        4.03066552, 3.9741324 , 3.94195835, 4.00407535, 4.06036833,\n",
       "        4.00941456, 3.93531446, 3.94170234, 3.99878591, 3.97261469,\n",
       "        3.92736485, 3.94334628, 4.02075018, 3.9546982 , 4.00922225])]"
      ]
     },
     "execution_count": 4,
     "metadata": {},
     "output_type": "execute_result"
    }
   ],
   "source": [
    "xs"
   ]
  },
  {
   "cell_type": "code",
   "execution_count": 5,
   "metadata": {
    "ExecuteTime": {
     "end_time": "2024-04-20T10:16:30.547804Z",
     "start_time": "2024-04-20T10:16:30.455423Z"
    }
   },
   "outputs": [
    {
     "data": {
      "image/png": "[encoded data removed]",
      "text/plain": [
       "<Figure size 432x288 with 1 Axes>"
      ]
     },
     "metadata": {
      "needs_background": "light"
     },
     "output_type": "display_data"
    }
   ],
   "source": [
    "plt.boxplot(vals, labels=names)\n",
    "palette = ['r', 'g', 'b', 'y']\n",
    "for x, val, c in zip(xs, vals, palette):\n",
    "    plt.scatter(x, val, alpha=0.4, color=c)\n",
    "plt.show()"
   ]
  },
  {
   "cell_type": "code",
   "execution_count": 6,
   "metadata": {
    "ExecuteTime": {
     "end_time": "2024-04-20T10:16:30.553996Z",
     "start_time": "2024-04-20T10:16:30.548810Z"
    }
   },
   "outputs": [],
   "source": [
    "##### Set style options here #####\n",
    "sns.set_style(\"whitegrid\")  # \"white\",\"dark\",\"darkgrid\",\"ticks\"\n",
    "boxprops = dict(linestyle='-', linewidth=1.5, color='#00145A')\n",
    "flierprops = dict(marker='o', markersize=1,\n",
    "                  linestyle='none')\n",
    "whiskerprops = dict(color='#00145A')\n",
    "capprops = dict(color='#00145A')\n",
    "medianprops = dict(linewidth=1.5, linestyle='-', color='#01FBEE')"
   ]
  },
  {
   "cell_type": "code",
   "execution_count": 7,
   "metadata": {
    "ExecuteTime": {
     "end_time": "2024-04-20T10:16:30.558139Z",
     "start_time": "2024-04-20T10:16:30.555002Z"
    }
   },
   "outputs": [
    {
     "data": {
      "text/plain": [
       "['data1', 'data2', 'data3', 'data4']"
      ]
     },
     "execution_count": 7,
     "metadata": {},
     "output_type": "execute_result"
    }
   ],
   "source": [
    "names"
   ]
  },
  {
   "cell_type": "code",
   "execution_count": 8,
   "metadata": {
    "ExecuteTime": {
     "end_time": "2024-04-20T10:16:30.684492Z",
     "start_time": "2024-04-20T10:16:30.558883Z"
    }
   },
   "outputs": [
    {
     "data": {
      "image/png": "[encoded data removed]",
      "text/plain": [
       "<Figure size 432x288 with 1 Axes>"
      ]
     },
     "metadata": {},
     "output_type": "display_data"
    }
   ],
   "source": [
    "palette = ['#FF2709', '#09FF10', '#0030D7', '#FA70B5']\n",
    "plt.boxplot(vals, labels=names, \n",
    "            notch=False, boxprops=boxprops, \n",
    "            whiskerprops=whiskerprops,\n",
    "            capprops=capprops, \n",
    "            flierprops=flierprops, \n",
    "            medianprops=medianprops,\n",
    "            showmeans=False)  \n",
    "\n",
    "for x, val, c in zip(xs, vals, palette):\n",
    "    plt.scatter(x, val, alpha=0.4, color=c)\n",
    "plt.show()"
   ]
  },
  {
   "cell_type": "code",
   "execution_count": 9,
   "metadata": {
    "ExecuteTime": {
     "end_time": "2024-04-20T10:16:30.817931Z",
     "start_time": "2024-04-20T10:16:30.688052Z"
    }
   },
   "outputs": [
    {
     "data": {
      "image/png": "[encoded data removed]",
      "text/plain": [
       "<Figure size 432x288 with 1 Axes>"
      ]
     },
     "metadata": {},
     "output_type": "display_data"
    }
   ],
   "source": [
    "plt.xlabel(\"Categorical\", fontweight='normal', fontsize=14)\n",
    "plt.ylabel(\"Numerical\", fontweight='normal', fontsize=14)\n",
    "sns.despine(bottom=True) # removes right and top axis lines\n",
    "plt.axhline(y=65, color='#ff3300', linestyle='--', linewidth=1, label='Threshold Value')\n",
    "plt.legend(bbox_to_anchor=(0.31, 1.06), loc=2, borderaxespad=0., framealpha=1, facecolor ='white', frameon=True)\n",
    "\n",
    "plt.boxplot(vals, labels=names, \n",
    "            notch=False, boxprops=boxprops, \n",
    "            whiskerprops=whiskerprops,\n",
    "            capprops=capprops, \n",
    "            flierprops=flierprops, \n",
    "            medianprops=medianprops,\n",
    "            showmeans=False)  \n",
    "\n",
    "for x, val, c in zip(xs, vals, palette):\n",
    "    plt.scatter(x, val, alpha=0.4, color=c)\n",
    "plt.show()"
   ]
  },
  {
   "cell_type": "code",
   "execution_count": 10,
   "metadata": {
    "ExecuteTime": {
     "end_time": "2024-04-20T10:16:30.839665Z",
     "start_time": "2024-04-20T10:16:30.819407Z"
    }
   },
   "outputs": [
    {
     "data": {
      "text/html": [
       "<div>\n",
       "<style scoped>\n",
       "    .dataframe tbody tr th:only-of-type {\n",
       "        vertical-align: middle;\n",
       "    }\n",
       "\n",
       "    .dataframe tbody tr th {\n",
       "        vertical-align: top;\n",
       "    }\n",
       "\n",
       "    .dataframe thead th {\n",
       "        text-align: right;\n",
       "    }\n",
       "</style>\n",
       "<table border=\"1\" class=\"dataframe\">\n",
       "  <thead>\n",
       "    <tr style=\"text-align: right;\">\n",
       "      <th></th>\n",
       "      <th>data1</th>\n",
       "      <th>data2</th>\n",
       "      <th>data3</th>\n",
       "      <th>data4</th>\n",
       "    </tr>\n",
       "  </thead>\n",
       "  <tbody>\n",
       "    <tr>\n",
       "      <th>0</th>\n",
       "      <td>63.363840</td>\n",
       "      <td>70.314539</td>\n",
       "      <td>50.513433</td>\n",
       "      <td>58.689395</td>\n",
       "    </tr>\n",
       "    <tr>\n",
       "      <th>1</th>\n",
       "      <td>59.306512</td>\n",
       "      <td>58.195611</td>\n",
       "      <td>54.777610</td>\n",
       "      <td>51.937271</td>\n",
       "    </tr>\n",
       "    <tr>\n",
       "      <th>2</th>\n",
       "      <td>53.665841</td>\n",
       "      <td>60.382049</td>\n",
       "      <td>63.731648</td>\n",
       "      <td>84.884904</td>\n",
       "    </tr>\n",
       "    <tr>\n",
       "      <th>3</th>\n",
       "      <td>76.883521</td>\n",
       "      <td>83.504779</td>\n",
       "      <td>78.573297</td>\n",
       "      <td>75.262909</td>\n",
       "    </tr>\n",
       "    <tr>\n",
       "      <th>4</th>\n",
       "      <td>78.030867</td>\n",
       "      <td>79.818262</td>\n",
       "      <td>76.255411</td>\n",
       "      <td>55.849592</td>\n",
       "    </tr>\n",
       "  </tbody>\n",
       "</table>\n",
       "</div>"
      ],
      "text/plain": [
       "       data1      data2      data3      data4\n",
       "0  63.363840  70.314539  50.513433  58.689395\n",
       "1  59.306512  58.195611  54.777610  51.937271\n",
       "2  53.665841  60.382049  63.731648  84.884904\n",
       "3  76.883521  83.504779  78.573297  75.262909\n",
       "4  78.030867  79.818262  76.255411  55.849592"
      ]
     },
     "execution_count": 10,
     "metadata": {},
     "output_type": "execute_result"
    }
   ],
   "source": [
    "dataset = np.random.default_rng().uniform(50,86,(20,4))\n",
    "df_1 = pd.DataFrame(dataset, columns=['data1','data2','data3','data4'])\n",
    "df_1.head()"
   ]
  },
  {
   "cell_type": "code",
   "execution_count": 11,
   "metadata": {
    "ExecuteTime": {
     "end_time": "2024-04-20T10:16:30.854409Z",
     "start_time": "2024-04-20T10:16:30.840604Z"
    }
   },
   "outputs": [],
   "source": [
    "for n in range(1,df.columns.shape[0]+1):\n",
    "    df.rename(columns={f\"data{n}\": f\"실험 {n}\"}, inplace=True)\n",
    "    df_1.rename(columns={f\"data{n}\": f\"실험 {n}\"}, inplace=True)\n",
    "namesA, valsA, xsA = [], [], []\n",
    "namesB, valsB, xsB = [], [], []\n",
    "for i, col in enumerate(df.columns):\n",
    "    valsA.append(df[col].values)\n",
    "    namesA.append(col)\n",
    "    xsA.append(np.random.normal(i + 1, 0.04, df[col].values.shape[0]))\n",
    "for i, col in enumerate(df_1.columns):\n",
    "    valsB.append(df_1[col].values)\n",
    "    namesB.append(col)\n",
    "    xsB.append(np.random.normal(i + 1, 0.04, df_1[col].values.shape[0]))"
   ]
  },
  {
   "cell_type": "code",
   "execution_count": 12,
   "metadata": {
    "ExecuteTime": {
     "end_time": "2024-04-20T10:16:30.870526Z",
     "start_time": "2024-04-20T10:16:30.855514Z"
    }
   },
   "outputs": [
    {
     "data": {
      "text/html": [
       "<div>\n",
       "<style scoped>\n",
       "    .dataframe tbody tr th:only-of-type {\n",
       "        vertical-align: middle;\n",
       "    }\n",
       "\n",
       "    .dataframe tbody tr th {\n",
       "        vertical-align: top;\n",
       "    }\n",
       "\n",
       "    .dataframe thead th {\n",
       "        text-align: right;\n",
       "    }\n",
       "</style>\n",
       "<table border=\"1\" class=\"dataframe\">\n",
       "  <thead>\n",
       "    <tr style=\"text-align: right;\">\n",
       "      <th></th>\n",
       "      <th>실험 1</th>\n",
       "      <th>실험 2</th>\n",
       "      <th>실험 3</th>\n",
       "      <th>실험 4</th>\n",
       "    </tr>\n",
       "  </thead>\n",
       "  <tbody>\n",
       "    <tr>\n",
       "      <th>0</th>\n",
       "      <td>75.843435</td>\n",
       "      <td>89.003941</td>\n",
       "      <td>82.397449</td>\n",
       "      <td>62.334397</td>\n",
       "    </tr>\n",
       "    <tr>\n",
       "      <th>1</th>\n",
       "      <td>93.640593</td>\n",
       "      <td>68.109963</td>\n",
       "      <td>68.213048</td>\n",
       "      <td>71.652693</td>\n",
       "    </tr>\n",
       "    <tr>\n",
       "      <th>2</th>\n",
       "      <td>93.470260</td>\n",
       "      <td>85.569765</td>\n",
       "      <td>65.586958</td>\n",
       "      <td>83.367364</td>\n",
       "    </tr>\n",
       "    <tr>\n",
       "      <th>3</th>\n",
       "      <td>86.027844</td>\n",
       "      <td>87.539994</td>\n",
       "      <td>80.180372</td>\n",
       "      <td>83.955855</td>\n",
       "    </tr>\n",
       "    <tr>\n",
       "      <th>4</th>\n",
       "      <td>94.056962</td>\n",
       "      <td>68.164754</td>\n",
       "      <td>92.909785</td>\n",
       "      <td>67.129542</td>\n",
       "    </tr>\n",
       "    <tr>\n",
       "      <th>5</th>\n",
       "      <td>75.164564</td>\n",
       "      <td>60.975777</td>\n",
       "      <td>78.497509</td>\n",
       "      <td>84.794920</td>\n",
       "    </tr>\n",
       "    <tr>\n",
       "      <th>6</th>\n",
       "      <td>76.006642</td>\n",
       "      <td>71.660443</td>\n",
       "      <td>93.647784</td>\n",
       "      <td>72.483977</td>\n",
       "    </tr>\n",
       "    <tr>\n",
       "      <th>7</th>\n",
       "      <td>78.172876</td>\n",
       "      <td>63.351017</td>\n",
       "      <td>79.396033</td>\n",
       "      <td>63.047603</td>\n",
       "    </tr>\n",
       "    <tr>\n",
       "      <th>8</th>\n",
       "      <td>91.439683</td>\n",
       "      <td>94.297282</td>\n",
       "      <td>85.787933</td>\n",
       "      <td>71.401978</td>\n",
       "    </tr>\n",
       "    <tr>\n",
       "      <th>9</th>\n",
       "      <td>84.080007</td>\n",
       "      <td>61.975417</td>\n",
       "      <td>64.770127</td>\n",
       "      <td>62.634414</td>\n",
       "    </tr>\n",
       "    <tr>\n",
       "      <th>10</th>\n",
       "      <td>70.497098</td>\n",
       "      <td>80.646506</td>\n",
       "      <td>71.488951</td>\n",
       "      <td>60.346610</td>\n",
       "    </tr>\n",
       "    <tr>\n",
       "      <th>11</th>\n",
       "      <td>60.764599</td>\n",
       "      <td>74.080751</td>\n",
       "      <td>74.254635</td>\n",
       "      <td>88.144326</td>\n",
       "    </tr>\n",
       "    <tr>\n",
       "      <th>12</th>\n",
       "      <td>90.416471</td>\n",
       "      <td>90.476372</td>\n",
       "      <td>79.724809</td>\n",
       "      <td>89.467872</td>\n",
       "    </tr>\n",
       "    <tr>\n",
       "      <th>13</th>\n",
       "      <td>66.780117</td>\n",
       "      <td>69.076708</td>\n",
       "      <td>89.991784</td>\n",
       "      <td>79.870170</td>\n",
       "    </tr>\n",
       "    <tr>\n",
       "      <th>14</th>\n",
       "      <td>65.627670</td>\n",
       "      <td>90.939337</td>\n",
       "      <td>84.824551</td>\n",
       "      <td>83.904640</td>\n",
       "    </tr>\n",
       "    <tr>\n",
       "      <th>15</th>\n",
       "      <td>72.721661</td>\n",
       "      <td>60.719986</td>\n",
       "      <td>76.702996</td>\n",
       "      <td>93.584469</td>\n",
       "    </tr>\n",
       "    <tr>\n",
       "      <th>16</th>\n",
       "      <td>91.614446</td>\n",
       "      <td>93.723471</td>\n",
       "      <td>85.198949</td>\n",
       "      <td>85.576857</td>\n",
       "    </tr>\n",
       "    <tr>\n",
       "      <th>17</th>\n",
       "      <td>89.761030</td>\n",
       "      <td>66.337440</td>\n",
       "      <td>86.359091</td>\n",
       "      <td>70.330375</td>\n",
       "    </tr>\n",
       "    <tr>\n",
       "      <th>18</th>\n",
       "      <td>61.456806</td>\n",
       "      <td>66.563860</td>\n",
       "      <td>94.652790</td>\n",
       "      <td>83.021290</td>\n",
       "    </tr>\n",
       "    <tr>\n",
       "      <th>19</th>\n",
       "      <td>89.846940</td>\n",
       "      <td>87.238723</td>\n",
       "      <td>90.270477</td>\n",
       "      <td>79.761374</td>\n",
       "    </tr>\n",
       "  </tbody>\n",
       "</table>\n",
       "</div>"
      ],
      "text/plain": [
       "         실험 1       실험 2       실험 3       실험 4\n",
       "0   75.843435  89.003941  82.397449  62.334397\n",
       "1   93.640593  68.109963  68.213048  71.652693\n",
       "2   93.470260  85.569765  65.586958  83.367364\n",
       "3   86.027844  87.539994  80.180372  83.955855\n",
       "4   94.056962  68.164754  92.909785  67.129542\n",
       "5   75.164564  60.975777  78.497509  84.794920\n",
       "6   76.006642  71.660443  93.647784  72.483977\n",
       "7   78.172876  63.351017  79.396033  63.047603\n",
       "8   91.439683  94.297282  85.787933  71.401978\n",
       "9   84.080007  61.975417  64.770127  62.634414\n",
       "10  70.497098  80.646506  71.488951  60.346610\n",
       "11  60.764599  74.080751  74.254635  88.144326\n",
       "12  90.416471  90.476372  79.724809  89.467872\n",
       "13  66.780117  69.076708  89.991784  79.870170\n",
       "14  65.627670  90.939337  84.824551  83.904640\n",
       "15  72.721661  60.719986  76.702996  93.584469\n",
       "16  91.614446  93.723471  85.198949  85.576857\n",
       "17  89.761030  66.337440  86.359091  70.330375\n",
       "18  61.456806  66.563860  94.652790  83.021290\n",
       "19  89.846940  87.238723  90.270477  79.761374"
      ]
     },
     "execution_count": 12,
     "metadata": {},
     "output_type": "execute_result"
    }
   ],
   "source": [
    "df"
   ]
  },
  {
   "cell_type": "code",
   "execution_count": 13,
   "metadata": {
    "ExecuteTime": {
     "end_time": "2024-04-20T10:16:30.885761Z",
     "start_time": "2024-04-20T10:16:30.871099Z"
    }
   },
   "outputs": [
    {
     "data": {
      "text/plain": [
       "['실험 1', '실험 2', '실험 3', '실험 4']"
      ]
     },
     "execution_count": 13,
     "metadata": {},
     "output_type": "execute_result"
    }
   ],
   "source": [
    "namesA"
   ]
  },
  {
   "cell_type": "code",
   "execution_count": 14,
   "metadata": {
    "ExecuteTime": {
     "end_time": "2024-04-20T10:16:31.116714Z",
     "start_time": "2024-04-20T10:16:30.887758Z"
    }
   },
   "outputs": [
    {
     "name": "stderr",
     "output_type": "stream",
     "text": [
      "C:\\Users\\jkm20\\anaconda3\\lib\\site-packages\\IPython\\core\\events.py:89: UserWarning: Glyph 49892 (\\N{HANGUL SYLLABLE SIL}) missing from current font.\n",
      "  func(*args, **kwargs)\n",
      "C:\\Users\\jkm20\\anaconda3\\lib\\site-packages\\IPython\\core\\events.py:89: UserWarning: Glyph 54744 (\\N{HANGUL SYLLABLE HEOM}) missing from current font.\n",
      "  func(*args, **kwargs)\n",
      "C:\\Users\\jkm20\\anaconda3\\lib\\site-packages\\IPython\\core\\pylabtools.py:132: UserWarning: Glyph 49892 (\\N{HANGUL SYLLABLE SIL}) missing from current font.\n",
      "  fig.canvas.print_figure(bytes_io, **kw)\n",
      "C:\\Users\\jkm20\\anaconda3\\lib\\site-packages\\IPython\\core\\pylabtools.py:132: UserWarning: Glyph 54744 (\\N{HANGUL SYLLABLE HEOM}) missing from current font.\n",
      "  fig.canvas.print_figure(bytes_io, **kw)\n"
     ]
    },
    {
     "data": {
      "image/png": "[encoded data removed]",
      "text/plain": [
       "<Figure size 360x360 with 2 Axes>"
      ]
     },
     "metadata": {},
     "output_type": "display_data"
    }
   ],
   "source": [
    "fig, (ax1, ax2) = plt.subplots(nrows=2, ncols=1, figsize=(5, 5))\n",
    "plt.rcParams['font.family'] = 'NanumGothic'\n",
    "\n",
    "bplot1 = ax1.boxplot(valsA, labels=namesA, notch=False,     showmeans=False)\n",
    "bplot2 = ax2.boxplot(valsB, labels=namesB, notch=False, \n",
    "            showmeans=False)\n",
    "palette = ['#33FF3B', '#3379FF', '#FFD633', '#33FFF1']\n",
    "for xA, xB, valA, valB, c in zip(xsA, xsB, valsA, valsB, palette):\n",
    "    ax1.scatter(xA, valA, alpha=0.4, color=c)\n",
    "    ax2.scatter(xB, valB, alpha=0.4, color=c)"
   ]
  },
  {
   "cell_type": "code",
   "execution_count": 15,
   "metadata": {
    "ExecuteTime": {
     "end_time": "2024-04-20T10:16:31.134881Z",
     "start_time": "2024-04-20T10:16:31.119661Z"
    }
   },
   "outputs": [],
   "source": [
    "boxpropsA = dict(linestyle='-', linewidth=1, color='#33B3FF')\n",
    "flierpropsA = dict(marker='o', markersize=10,\n",
    "                  linestyle='none', markeredgecolor='g')\n",
    "whiskerpropsA = dict(color='#33B3FF')\n",
    "cappropsA = dict(color='#33B3FF')\n",
    "medianpropsA = dict(linewidth=1, linestyle='-', color='#33B3FF')  # colors median line\n",
    "boxpropsB = dict(linestyle='-', linewidth=1, color='#FF4533')\n",
    "flierpropsB = dict(marker='o', markersize=10, linestyle='none', markeredgecolor='g')\n",
    "whiskerpropsB = dict(color='#FF4533')\n",
    "cappropsB = dict(color='#FF4533')\n",
    "medianpropsB = dict(linewidth=1, linestyle='-', color='#FF4533')  # colors median line"
   ]
  },
  {
   "cell_type": "code",
   "execution_count": 16,
   "metadata": {
    "ExecuteTime": {
     "end_time": "2024-04-20T10:16:31.155168Z",
     "start_time": "2024-04-20T10:16:31.137888Z"
    }
   },
   "outputs": [
    {
     "data": {
      "text/plain": [
       "Text(0.04, 0.5, 'Classification accuracy (%)')"
      ]
     },
     "execution_count": 16,
     "metadata": {},
     "output_type": "execute_result"
    }
   ],
   "source": [
    "sns.set_style(\"whitegrid\")\n",
    "for ax in fig.get_axes():\n",
    "    ax.label_outer()\n",
    "    sns.despine(ax=ax)\n",
    "    ax.set_ylim(50, 100)\n",
    "    ax.axhline(y=65, color='#ff3300', linestyle='--', linewidth=1,      label='Threshold')\n",
    "fig.text(0.04, 0.5, 'Classification accuracy (%)', ha='center', va='center', rotation='vertical', fontsize=12)"
   ]
  },
  {
   "cell_type": "markdown",
   "metadata": {},
   "source": [
    "# source"
   ]
  },
  {
   "cell_type": "markdown",
   "metadata": {},
   "source": [
    "https://towardsdatascience.com/scattered-boxplots-graphing-experimental-results-with-matplotlib-seaborn-and-pandas-81f9fa8a1801"
   ]
  },
  {
   "cell_type": "markdown",
   "metadata": {},
   "source": [
    "https://github.com/cfcooney/medium_posts/blob/master/scattered_boxplots.ipynb"
   ]
  },
  {
   "cell_type": "code",
   "execution_count": 17,
   "metadata": {
    "ExecuteTime": {
     "end_time": "2024-04-20T10:16:31.267234Z",
     "start_time": "2024-04-20T10:16:31.155168Z"
    }
   },
   "outputs": [
    {
     "data": {
      "image/png": "[encoded data removed]",
      "text/plain": [
       "<Figure size 432x288 with 1 Axes>"
      ]
     },
     "metadata": {},
     "output_type": "display_data"
    }
   ],
   "source": [
    "import numpy as np\n",
    "import pandas as pd\n",
    "import matplotlib.pyplot as plt\n",
    "import koreanize_matplotlib\n",
    "import seaborn as sns\n",
    "import matplotlib\n",
    "\n",
    "font = {'family' : 'NanumGothic',\n",
    "        'weight' : 'normal',\n",
    "        'size'   : 12}\n",
    "\n",
    "matplotlib.rc('font', **font)\n",
    "\n",
    "path = 'C:/Users/cfcoo/OneDrive - Ulster University/Ciaran/medium/figures'\n",
    "\n",
    "dataset = np.random.default_rng().uniform(60,95,(20,4))\n",
    "df = pd.DataFrame(dataset, columns=['data1','data2','data3','data4'])\n",
    "df.head()\n",
    "\n",
    "for n in range(1,df.columns.shape[0]+1):\n",
    "    df.rename(columns={f\"data{n}\": f\"실험 {n}\"}, inplace=True)\n",
    "df.head()\n",
    "\n",
    "vals, names, xs = [],[],[]\n",
    "\n",
    "for i, col in enumerate(df.columns):\n",
    "    vals.append(df[col].values)\n",
    "    names.append(col)\n",
    "    xs.append(np.random.normal(i + 1, 0.04, df[col].values.shape[0]))  # adds jitter to the data points - can be adjusted\n",
    "    \n",
    "plt.boxplot(vals, labels=names)  \n",
    "ngroup = len(vals)\n",
    "\n",
    "palette = ['r', 'g', 'b', 'y'] \n",
    "\n",
    "for x, val, c in zip(xs, vals, palette):\n",
    "    plt.scatter(x, val, alpha=0.4, color=c)\n",
    "\n",
    "plt.show()"
   ]
  },
  {
   "cell_type": "code",
   "execution_count": 18,
   "metadata": {
    "ExecuteTime": {
     "end_time": "2024-04-20T10:16:31.272476Z",
     "start_time": "2024-04-20T10:16:31.269135Z"
    }
   },
   "outputs": [
    {
     "data": {
      "text/plain": [
       "['실험 1', '실험 2', '실험 3', '실험 4']"
      ]
     },
     "execution_count": 18,
     "metadata": {},
     "output_type": "execute_result"
    }
   ],
   "source": [
    "names"
   ]
  },
  {
   "cell_type": "code",
   "execution_count": 19,
   "metadata": {
    "ExecuteTime": {
     "end_time": "2024-04-20T10:16:31.367934Z",
     "start_time": "2024-04-20T10:16:31.273061Z"
    }
   },
   "outputs": [
    {
     "data": {
      "image/png": "[encoded data removed]",
      "text/plain": [
       "<Figure size 432x288 with 1 Axes>"
      ]
     },
     "metadata": {},
     "output_type": "display_data"
    }
   ],
   "source": [
    "##### Set style options here #####\n",
    "sns.set_style(\"whitegrid\")  # \"white\",\"dark\",\"darkgrid\",\"ticks\"\n",
    "\n",
    "boxprops = dict(linestyle='-', linewidth=1.5, color='#00145A')\n",
    "flierprops = dict(marker='o', markersize=1,\n",
    "                  linestyle='none')\n",
    "whiskerprops = dict(color='#00145A')\n",
    "capprops = dict(color='#00145A')\n",
    "medianprops = dict(linewidth=1.5, linestyle='-', color='#01FBEE')  # colors median line\n",
    "\n",
    "plt.rcParams['font.family'] = 'NanumGothic'\n",
    "plt.boxplot(vals, labels=names, notch=False, boxprops=boxprops, whiskerprops=whiskerprops,\n",
    "            capprops=capprops, flierprops=flierprops, medianprops=medianprops,\n",
    "            showmeans=False)  # notch=True adds median notch\n",
    "ngroup = len(vals)\n",
    "\n",
    "palette = ['#FF2709', '#09FF10', '#0030D7', '#FA70B5']\n",
    "\n",
    "for x, val, c in zip(xs, vals, palette):\n",
    "    plt.scatter(x, val, alpha=0.4, color=c)\n",
    "\n",
    "plt.show()"
   ]
  },
  {
   "cell_type": "code",
   "execution_count": 20,
   "metadata": {
    "ExecuteTime": {
     "end_time": "2024-04-20T10:16:31.568029Z",
     "start_time": "2024-04-20T10:16:31.369128Z"
    }
   },
   "outputs": [
    {
     "data": {
      "image/png": "[encoded data removed]",
      "text/plain": [
       "<Figure size 432x288 with 1 Axes>"
      ]
     },
     "metadata": {},
     "output_type": "display_data"
    }
   ],
   "source": [
    "plt.rcParams['font.family'] = 'Malgun Gothic'\n",
    "\n",
    "plt.boxplot(vals, labels=names, notch=False, boxprops=boxprops, whiskerprops=whiskerprops,\n",
    "            capprops=capprops, flierprops=flierprops, medianprops=medianprops,\n",
    "            showmeans=False)  # notch=True adds median notch\n",
    "ngroup = len(vals)\n",
    "\n",
    "palette = ['#FF2709', '#09FF10', '#0030D7', '#FA70B5']\n",
    "\n",
    "for x, val, c in zip(xs, vals, palette):\n",
    "    plt.scatter(x, val, alpha=0.4, color=c)\n",
    "    \n",
    "plt.xlabel(\"Categorical\", fontweight='normal', fontsize=14)\n",
    "plt.ylabel(\"Numerical\", fontweight='normal', fontsize=14)\n",
    "\n",
    "sns.despine(bottom=True) # removes right and top axis lines\n",
    "plt.axhline(y=65, color='#ff3300', linestyle='--', linewidth=1, label='Threshold Value')\n",
    "plt.legend(bbox_to_anchor=(0.31, 1.06), loc=2, borderaxespad=0., framealpha=1, facecolor ='white', frameon=True)\n",
    "\n",
    "plt.text(2.5, 81, 'high \\nmedian', ha='center', va='center', rotation='horizontal', fontsize=10)\n",
    "\n",
    "plt.show()"
   ]
  },
  {
   "cell_type": "code",
   "execution_count": 21,
   "metadata": {
    "ExecuteTime": {
     "end_time": "2024-04-20T10:16:31.584776Z",
     "start_time": "2024-04-20T10:16:31.570018Z"
    }
   },
   "outputs": [
    {
     "data": {
      "text/html": [
       "<div>\n",
       "<style scoped>\n",
       "    .dataframe tbody tr th:only-of-type {\n",
       "        vertical-align: middle;\n",
       "    }\n",
       "\n",
       "    .dataframe tbody tr th {\n",
       "        vertical-align: top;\n",
       "    }\n",
       "\n",
       "    .dataframe thead th {\n",
       "        text-align: right;\n",
       "    }\n",
       "</style>\n",
       "<table border=\"1\" class=\"dataframe\">\n",
       "  <thead>\n",
       "    <tr style=\"text-align: right;\">\n",
       "      <th></th>\n",
       "      <th>data1</th>\n",
       "      <th>data2</th>\n",
       "      <th>data3</th>\n",
       "      <th>data4</th>\n",
       "    </tr>\n",
       "  </thead>\n",
       "  <tbody>\n",
       "    <tr>\n",
       "      <th>0</th>\n",
       "      <td>73.279971</td>\n",
       "      <td>60.289685</td>\n",
       "      <td>66.104892</td>\n",
       "      <td>92.579459</td>\n",
       "    </tr>\n",
       "    <tr>\n",
       "      <th>1</th>\n",
       "      <td>90.589754</td>\n",
       "      <td>87.046067</td>\n",
       "      <td>62.762960</td>\n",
       "      <td>80.186211</td>\n",
       "    </tr>\n",
       "    <tr>\n",
       "      <th>2</th>\n",
       "      <td>79.303039</td>\n",
       "      <td>61.294777</td>\n",
       "      <td>69.416906</td>\n",
       "      <td>93.760465</td>\n",
       "    </tr>\n",
       "    <tr>\n",
       "      <th>3</th>\n",
       "      <td>61.020332</td>\n",
       "      <td>88.433347</td>\n",
       "      <td>90.728111</td>\n",
       "      <td>90.988065</td>\n",
       "    </tr>\n",
       "    <tr>\n",
       "      <th>4</th>\n",
       "      <td>92.274506</td>\n",
       "      <td>64.097806</td>\n",
       "      <td>75.780093</td>\n",
       "      <td>62.577886</td>\n",
       "    </tr>\n",
       "  </tbody>\n",
       "</table>\n",
       "</div>"
      ],
      "text/plain": [
       "       data1      data2      data3      data4\n",
       "0  73.279971  60.289685  66.104892  92.579459\n",
       "1  90.589754  87.046067  62.762960  80.186211\n",
       "2  79.303039  61.294777  69.416906  93.760465\n",
       "3  61.020332  88.433347  90.728111  90.988065\n",
       "4  92.274506  64.097806  75.780093  62.577886"
      ]
     },
     "execution_count": 21,
     "metadata": {},
     "output_type": "execute_result"
    }
   ],
   "source": [
    "\"\"\"\n",
    "Part 2 - creating multiple scattered boxplots concurrently\n",
    "\"\"\"\n",
    "dataset = np.random.default_rng().uniform(60,95,(20,4))\n",
    "df = pd.DataFrame(dataset, columns=['data1','data2','data3','data4'])\n",
    "df.head()"
   ]
  },
  {
   "cell_type": "code",
   "execution_count": 22,
   "metadata": {
    "ExecuteTime": {
     "end_time": "2024-04-20T10:16:31.604420Z",
     "start_time": "2024-04-20T10:16:31.585778Z"
    }
   },
   "outputs": [
    {
     "data": {
      "text/html": [
       "<div>\n",
       "<style scoped>\n",
       "    .dataframe tbody tr th:only-of-type {\n",
       "        vertical-align: middle;\n",
       "    }\n",
       "\n",
       "    .dataframe tbody tr th {\n",
       "        vertical-align: top;\n",
       "    }\n",
       "\n",
       "    .dataframe thead th {\n",
       "        text-align: right;\n",
       "    }\n",
       "</style>\n",
       "<table border=\"1\" class=\"dataframe\">\n",
       "  <thead>\n",
       "    <tr style=\"text-align: right;\">\n",
       "      <th></th>\n",
       "      <th>data1</th>\n",
       "      <th>data2</th>\n",
       "      <th>data3</th>\n",
       "      <th>data4</th>\n",
       "    </tr>\n",
       "  </thead>\n",
       "  <tbody>\n",
       "    <tr>\n",
       "      <th>0</th>\n",
       "      <td>72.571666</td>\n",
       "      <td>60.109345</td>\n",
       "      <td>68.257197</td>\n",
       "      <td>60.037184</td>\n",
       "    </tr>\n",
       "    <tr>\n",
       "      <th>1</th>\n",
       "      <td>60.506612</td>\n",
       "      <td>84.400395</td>\n",
       "      <td>52.313650</td>\n",
       "      <td>63.614720</td>\n",
       "    </tr>\n",
       "    <tr>\n",
       "      <th>2</th>\n",
       "      <td>77.640553</td>\n",
       "      <td>80.144415</td>\n",
       "      <td>76.122367</td>\n",
       "      <td>67.609848</td>\n",
       "    </tr>\n",
       "    <tr>\n",
       "      <th>3</th>\n",
       "      <td>56.754598</td>\n",
       "      <td>78.885353</td>\n",
       "      <td>63.647496</td>\n",
       "      <td>77.097816</td>\n",
       "    </tr>\n",
       "    <tr>\n",
       "      <th>4</th>\n",
       "      <td>67.974427</td>\n",
       "      <td>63.704578</td>\n",
       "      <td>63.867551</td>\n",
       "      <td>85.690984</td>\n",
       "    </tr>\n",
       "  </tbody>\n",
       "</table>\n",
       "</div>"
      ],
      "text/plain": [
       "       data1      data2      data3      data4\n",
       "0  72.571666  60.109345  68.257197  60.037184\n",
       "1  60.506612  84.400395  52.313650  63.614720\n",
       "2  77.640553  80.144415  76.122367  67.609848\n",
       "3  56.754598  78.885353  63.647496  77.097816\n",
       "4  67.974427  63.704578  63.867551  85.690984"
      ]
     },
     "execution_count": 22,
     "metadata": {},
     "output_type": "execute_result"
    }
   ],
   "source": [
    "dataset = np.random.default_rng().uniform(50,86,(20,4))\n",
    "df_1 = pd.DataFrame(dataset, columns=['data1','data2','data3','data4'])\n",
    "df_1.head()"
   ]
  },
  {
   "cell_type": "code",
   "execution_count": 23,
   "metadata": {
    "ExecuteTime": {
     "end_time": "2024-04-20T10:16:31.619833Z",
     "start_time": "2024-04-20T10:16:31.605285Z"
    }
   },
   "outputs": [
    {
     "data": {
      "text/html": [
       "<div>\n",
       "<style scoped>\n",
       "    .dataframe tbody tr th:only-of-type {\n",
       "        vertical-align: middle;\n",
       "    }\n",
       "\n",
       "    .dataframe tbody tr th {\n",
       "        vertical-align: top;\n",
       "    }\n",
       "\n",
       "    .dataframe thead th {\n",
       "        text-align: right;\n",
       "    }\n",
       "</style>\n",
       "<table border=\"1\" class=\"dataframe\">\n",
       "  <thead>\n",
       "    <tr style=\"text-align: right;\">\n",
       "      <th></th>\n",
       "      <th>실험 1</th>\n",
       "      <th>실험 2</th>\n",
       "      <th>실험 3</th>\n",
       "      <th>실험 4</th>\n",
       "    </tr>\n",
       "  </thead>\n",
       "  <tbody>\n",
       "    <tr>\n",
       "      <th>0</th>\n",
       "      <td>73.279971</td>\n",
       "      <td>60.289685</td>\n",
       "      <td>66.104892</td>\n",
       "      <td>92.579459</td>\n",
       "    </tr>\n",
       "    <tr>\n",
       "      <th>1</th>\n",
       "      <td>90.589754</td>\n",
       "      <td>87.046067</td>\n",
       "      <td>62.762960</td>\n",
       "      <td>80.186211</td>\n",
       "    </tr>\n",
       "    <tr>\n",
       "      <th>2</th>\n",
       "      <td>79.303039</td>\n",
       "      <td>61.294777</td>\n",
       "      <td>69.416906</td>\n",
       "      <td>93.760465</td>\n",
       "    </tr>\n",
       "    <tr>\n",
       "      <th>3</th>\n",
       "      <td>61.020332</td>\n",
       "      <td>88.433347</td>\n",
       "      <td>90.728111</td>\n",
       "      <td>90.988065</td>\n",
       "    </tr>\n",
       "    <tr>\n",
       "      <th>4</th>\n",
       "      <td>92.274506</td>\n",
       "      <td>64.097806</td>\n",
       "      <td>75.780093</td>\n",
       "      <td>62.577886</td>\n",
       "    </tr>\n",
       "  </tbody>\n",
       "</table>\n",
       "</div>"
      ],
      "text/plain": [
       "        실험 1       실험 2       실험 3       실험 4\n",
       "0  73.279971  60.289685  66.104892  92.579459\n",
       "1  90.589754  87.046067  62.762960  80.186211\n",
       "2  79.303039  61.294777  69.416906  93.760465\n",
       "3  61.020332  88.433347  90.728111  90.988065\n",
       "4  92.274506  64.097806  75.780093  62.577886"
      ]
     },
     "execution_count": 23,
     "metadata": {},
     "output_type": "execute_result"
    }
   ],
   "source": [
    "for n in range(1,df.columns.shape[0]+1):\n",
    "    df.rename(columns={f\"data{n}\": f\"실험 {n}\"}, inplace=True)\n",
    "    df_1.rename(columns={f\"data{n}\": f\"실험 {n}\"}, inplace=True)\n",
    "df.head()"
   ]
  },
  {
   "cell_type": "code",
   "execution_count": 24,
   "metadata": {
    "ExecuteTime": {
     "end_time": "2024-04-20T10:16:31.638906Z",
     "start_time": "2024-04-20T10:16:31.621820Z"
    }
   },
   "outputs": [],
   "source": [
    "namesA, valsA, xsA = [], [], []\n",
    "namesB, valsB, xsB = [], [], []\n",
    "\n",
    "for i, col in enumerate(df.columns):\n",
    "    valsA.append(df[col].values)\n",
    "    namesA.append(col)\n",
    "    xsA.append(np.random.normal(i + 1, 0.04, df[col].values.shape[0])) \n",
    "\n",
    "for i, col in enumerate(df_1.columns):\n",
    "    valsB.append(df_1[col].values)\n",
    "    namesB.append(col)\n",
    "    xsB.append(np.random.normal(i + 1, 0.04, df_1[col].values.shape[0]))"
   ]
  },
  {
   "cell_type": "code",
   "execution_count": 25,
   "metadata": {
    "ExecuteTime": {
     "end_time": "2024-04-20T10:16:31.833037Z",
     "start_time": "2024-04-20T10:16:31.638906Z"
    }
   },
   "outputs": [
    {
     "data": {
      "image/png": "[encoded data removed]",
      "text/plain": [
       "<Figure size 360x360 with 2 Axes>"
      ]
     },
     "metadata": {},
     "output_type": "display_data"
    }
   ],
   "source": [
    "fig, (ax1, ax2) = plt.subplots(nrows=2, ncols=1, figsize=(5, 5))\n",
    "\n",
    "bplot1 = ax1.boxplot(valsA, labels=namesA, notch=False, showmeans=False)  \n",
    "\n",
    "bplot2 = ax2.boxplot(valsB, labels=namesB, notch=False, showmeans=False) \n",
    "\n",
    "palette = ['#33FF3B', '#3379FF', '#FFD633', '#33FFF1']\n",
    "\n",
    "for xA, xB, valA, valB, c in zip(xsA, xsB, valsA, valsB, palette):\n",
    "    ax1.scatter(xA, valA, alpha=0.4, color=c)\n",
    "    ax2.scatter(xB, valB, alpha=0.4, color=c)"
   ]
  },
  {
   "cell_type": "code",
   "execution_count": 38,
   "metadata": {
    "ExecuteTime": {
     "end_time": "2024-04-20T10:20:02.219575Z",
     "start_time": "2024-04-20T10:20:01.695635Z"
    }
   },
   "outputs": [
    {
     "data": {
      "image/png": "[encoded data removed]",
      "text/plain": [
       "<Figure size 1008x360 with 2 Axes>"
      ]
     },
     "metadata": {},
     "output_type": "display_data"
    }
   ],
   "source": [
    "boxpropsA = dict(linestyle='-', linewidth=1, color='#33B3FF')\n",
    "flierpropsA = dict(marker='o', markersize=10,\n",
    "                  linestyle='none', markeredgecolor='g')\n",
    "whiskerpropsA = dict(color='#33B3FF')\n",
    "cappropsA = dict(color='#33B3FF')\n",
    "medianpropsA = dict(linewidth=1, linestyle='-', color='#33B3FF')  # colors median line\n",
    "\n",
    "boxpropsB = dict(linestyle='-', linewidth=1, color='#FF4533')\n",
    "flierpropsB = dict(marker='o', markersize=10, linestyle='none', markeredgecolor='g')\n",
    "whiskerpropsB = dict(color='#FF4533')\n",
    "cappropsB = dict(color='#FF4533')\n",
    "medianpropsB = dict(linewidth=1, linestyle='-', color='#FF4533')  # colors median line\n",
    "\n",
    "fig, (ax1, ax2) = plt.subplots(nrows=1, ncols=2, figsize=(14, 5))\n",
    "\n",
    "bplot1 = ax1.boxplot(valsA, labels=namesA, notch=False, boxprops=boxpropsA, whiskerprops=whiskerpropsA,\n",
    "            capprops=cappropsA, flierprops=flierpropsA, medianprops=medianpropsA,\n",
    "            showmeans=False)  # notch=True adds median notch\n",
    "\n",
    "bplot2 = ax2.boxplot(valsB, labels=namesB, notch=False, boxprops=boxpropsB, whiskerprops=whiskerpropsB,\n",
    "            capprops=cappropsB, flierprops=flierpropsB, medianprops=medianpropsB,\n",
    "            showmeans=False)  # notch=True adds median notch\n",
    "\n",
    "\n",
    "palette = ['#33FF3B', '#3379FF', '#FFD633', '#33FFF1']\n",
    "\n",
    "for xA, xB, valA, valB, c in zip(xsA, xsB, valsA, valsB, palette):\n",
    "    ax1.scatter(xA, valA, alpha=0.4, color=c)\n",
    "    ax2.scatter(xB, valB, alpha=0.4, color=c)\n",
    "    \n",
    "    "
   ]
  },
  {
   "cell_type": "code",
   "execution_count": 37,
   "metadata": {
    "ExecuteTime": {
     "end_time": "2024-04-20T10:19:52.163287Z",
     "start_time": "2024-04-20T10:19:51.689462Z"
    }
   },
   "outputs": [
    {
     "data": {
      "text/plain": [
       "Text(0.04, 0.5, '정확도(%)')"
      ]
     },
     "execution_count": 37,
     "metadata": {},
     "output_type": "execute_result"
    },
    {
     "data": {
      "image/png": "[encoded data removed]",
      "text/plain": [
       "<Figure size 864x360 with 2 Axes>"
      ]
     },
     "metadata": {},
     "output_type": "display_data"
    }
   ],
   "source": [
    "fig, (ax1, ax2) = plt.subplots(nrows=1, ncols=2, figsize=(12, 5))\n",
    "\n",
    "bplot1 = ax1.boxplot(valsA, labels=namesA, notch=False, boxprops=boxpropsA, whiskerprops=whiskerpropsA,\n",
    "            capprops=cappropsA, flierprops=flierpropsA, medianprops=medianpropsA,\n",
    "            showmeans=False)  # notch=True adds median notch\n",
    "\n",
    "bplot2 = ax2.boxplot(valsB, labels=namesB, notch=False, boxprops=boxpropsB, whiskerprops=whiskerpropsB,\n",
    "            capprops=cappropsB, flierprops=flierpropsB, medianprops=medianpropsB,\n",
    "            showmeans=False)  # notch=True adds median notch\n",
    "\n",
    "\n",
    "palette = ['#33FF3B', '#3379FF', '#FFD633', '#33FFF1']\n",
    "labels = [1,2,3,4,5,6]\n",
    "for xA, xB, valA, valB, c, label in zip(xsA, xsB, valsA, valsB, palette, labels):\n",
    "    ax1.scatter(xA, valA, alpha=0.4, color=c, label=label)\n",
    "    ax2.scatter(xB, valB, alpha=0.4, color=c)\n",
    "\n",
    "sns.set_style(\"whitegrid\")\n",
    "plt.rcParams['font.family'] = 'Malgun Gothic'\n",
    "\n",
    "\n",
    "for ax in fig.get_axes():\n",
    "    ax.label_outer()\n",
    "    sns.despine(ax=ax)\n",
    "    ax.set_ylim(50, 100)\n",
    "    ax.axhline(y=65, color='#ff3300', linestyle='--', linewidth=1, label='chance accuracy')\n",
    "\n",
    "fig.text(0.04, 0.5, '정확도(%)', ha='center', va='center', rotation='vertical', fontsize=12)"
   ]
  },
  {
   "cell_type": "markdown",
   "metadata": {},
   "source": [
    "https://towardsdatascience.com/scattered-boxplots-graphing-experimental-results-with-matplotlib-seaborn-and-pandas-81f9fa8a1801"
   ]
  }
 ],
 "metadata": {
  "kernelspec": {
   "display_name": "Python 3",
   "language": "python",
   "name": "python3"
  },
  "language_info": {
   "codemirror_mode": {
    "name": "ipython",
    "version": 3
   },
   "file_extension": ".py",
   "mimetype": "text/x-python",
   "name": "python",
   "nbconvert_exporter": "python",
   "pygments_lexer": "ipython3",
   "version": "3.8.5"
  }
 },
 "nbformat": 4,
 "nbformat_minor": 4
}
